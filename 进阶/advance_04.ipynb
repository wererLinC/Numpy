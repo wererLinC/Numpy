{
 "cells": [
  {
   "cell_type": "code",
   "execution_count": 1,
   "metadata": {},
   "outputs": [],
   "source": [
    "import numpy as np"
   ]
  },
  {
   "cell_type": "code",
   "execution_count": 3,
   "metadata": {},
   "outputs": [
    {
     "name": "stdout",
     "output_type": "stream",
     "text": [
      "[[1 2 3]\n",
      " [4 5 6]\n",
      " [7 8 9]]\n"
     ]
    }
   ],
   "source": [
    "# 交换两列\n",
    "a = np.arange(1, 10).reshape(3, -1)\n",
    "print(a)"
   ]
  },
  {
   "cell_type": "code",
   "execution_count": 5,
   "metadata": {},
   "outputs": [
    {
     "name": "stdout",
     "output_type": "stream",
     "text": [
      "[[2 1 3]\n",
      " [5 4 6]\n",
      " [8 7 9]]\n"
     ]
    }
   ],
   "source": [
    "print(a[:, [1, 0, 2]])"
   ]
  },
  {
   "cell_type": "code",
   "execution_count": 7,
   "metadata": {},
   "outputs": [
    {
     "name": "stdout",
     "output_type": "stream",
     "text": [
      "[[4 5 6]\n",
      " [1 2 3]\n",
      " [7 8 9]]\n"
     ]
    }
   ],
   "source": [
    "# 同理交换两行\n",
    "a = np.arange(1, 10).reshape(3, -1)\n",
    "print(a[[1, 0, 2] ,:])"
   ]
  },
  {
   "cell_type": "code",
   "execution_count": 10,
   "metadata": {},
   "outputs": [
    {
     "name": "stdout",
     "output_type": "stream",
     "text": [
      "[[7 8 9]\n",
      " [4 5 6]\n",
      " [1 2 3]]\n"
     ]
    }
   ],
   "source": [
    "# 如何反转二维数组的行？\n",
    "a = np.arange(1, 10).reshape(3, -1)\n",
    "print(a[::-1, :])"
   ]
  },
  {
   "cell_type": "code",
   "execution_count": 11,
   "metadata": {},
   "outputs": [
    {
     "name": "stdout",
     "output_type": "stream",
     "text": [
      "[[3 2 1]\n",
      " [6 5 4]\n",
      " [9 8 7]]\n"
     ]
    }
   ],
   "source": [
    "# 同理， 反转二维数组的列？\n",
    "a = np.arange(1, 10).reshape(3, -1)\n",
    "print(a[:, ::-1])"
   ]
  },
  {
   "cell_type": "code",
   "execution_count": 15,
   "metadata": {},
   "outputs": [
    {
     "name": "stdout",
     "output_type": "stream",
     "text": [
      "[[7 6 8]\n",
      " [8 9 9]\n",
      " [6 6 6]\n",
      " [8 9 9]\n",
      " [7 9 8]]\n"
     ]
    }
   ],
   "source": [
    "# 创建一个形状为5x3的二维数组，以包含5到10之间的随机十进制数。\n",
    "a = np.random.randint(5, 10, size=(5, 3))\n",
    "print(a)"
   ]
  },
  {
   "cell_type": "code",
   "execution_count": 18,
   "metadata": {},
   "outputs": [
    {
     "name": "stdout",
     "output_type": "stream",
     "text": [
      "[[6.026419   7.83880305 8.51691118]\n",
      " [7.09755726 7.99356438 9.60042772]\n",
      " [6.06706452 7.39526767 5.82456473]\n",
      " [6.02782863 4.65557675 5.50186541]\n",
      " [6.4848573  9.32676015 9.34793808]]\n"
     ]
    }
   ],
   "source": [
    "# 创建一个形状为5x3的二维数组，以包含5到10之间的随机十进制数,并加入适当的噪音。\n",
    "a = np.random.randint(5, 10, size=(5, 3)) + np.random.normal(size=(5, 3))\n",
    "print(a)"
   ]
  },
  {
   "cell_type": "code",
   "execution_count": 21,
   "metadata": {},
   "outputs": [
    {
     "name": "stdout",
     "output_type": "stream",
     "text": [
      "[[6.615 5.623 8.659]\n",
      " [8.214 5.618 9.447]\n",
      " [4.573 8.068 9.466]\n",
      " [7.66  8.263 5.383]\n",
      " [7.813 5.055 8.535]]\n"
     ]
    }
   ],
   "source": [
    "# 只打印小数点后3位\n",
    "a = np.random.randint(5, 10, size=(5, 3)) + np.random.normal(size=(5, 3))\n",
    "np.set_printoptions(precision=3) # 设置只输出3位就可以啦\n",
    "print(a)"
   ]
  },
  {
   "cell_type": "code",
   "execution_count": 22,
   "metadata": {},
   "outputs": [
    {
     "name": "stdout",
     "output_type": "stream",
     "text": [
      "[ 0  1  2 ... 12 13 14]\n"
     ]
    }
   ],
   "source": [
    "# 将numpy数组a中打印的项数限制为最多6个元素。\n",
    "a = np.arange(15)\n",
    "np.set_printoptions(threshold=6)\n",
    "print(a)"
   ]
  },
  {
   "cell_type": "markdown",
   "metadata": {},
   "source": [
    "### END"
   ]
  }
 ],
 "metadata": {
  "kernelspec": {
   "display_name": "Python 3",
   "language": "python",
   "name": "python3"
  },
  "language_info": {
   "codemirror_mode": {
    "name": "ipython",
    "version": 3
   },
   "file_extension": ".py",
   "mimetype": "text/x-python",
   "name": "python",
   "nbconvert_exporter": "python",
   "pygments_lexer": "ipython3",
   "version": "3.7.1"
  }
 },
 "nbformat": 4,
 "nbformat_minor": 2
}
