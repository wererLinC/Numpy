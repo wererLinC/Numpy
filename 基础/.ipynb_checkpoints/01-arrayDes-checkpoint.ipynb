{
 "cells": [
  {
   "cell_type": "code",
   "execution_count": 1,
   "metadata": {},
   "outputs": [
    {
     "name": "stdout",
     "output_type": "stream",
     "text": [
      "[1 2 3 4]\n",
      "1\n",
      "[100   2   3   4]\n",
      "[0. 0. 0. 0. 0. 0. 0. 0. 0. 0.]\n",
      "[1. 1. 1. 1. 1. 1. 1. 1. 1. 1.]\n",
      "[[0. 0. 0.]\n",
      " [0. 0. 0.]]\n",
      "[[1 2]\n",
      " [3 4]]\n",
      "[2 4]\n"
     ]
    }
   ],
   "source": [
    "'''01-数组的介绍'''\n",
    "\n",
    "# 让我们看看如何快速定义一维NumPy数组\n",
    "import numpy as np\n",
    "my_arr = np.array([1, 2, 3, 4])\n",
    "print(my_arr)\n",
    "\n",
    "# 现在让我们看看我们可以用这个特定的NumPy数组能做些什么。\n",
    "my_arr.shape\n",
    "# 它会打印我们创建的数组的形状：(5, )。意思就是 my_array 是一个包含5个元素的数组。\n",
    "\n",
    "# 我们也可以打印各个元素。就像普通的Python数组一样，NumPy数组的起始索引编号为0。\n",
    "print(my_arr[0])\n",
    "\n",
    "# 我们还可以修改NumPy数组的元素\n",
    "my_arr[0] = 100\n",
    "print(my_arr)\n",
    "\n",
    "# 现在假设，我们要创建一个长度为5的NumPy数组，但所有元素都为0，我们可以这样做吗？是的。NumPy提供了一种简单的方法来做同样的事情。\n",
    "my_arr1 = np.zeros(10)\n",
    "print(my_arr1)\n",
    "\n",
    "# 相同的，我们要打印10个1\n",
    "my_arr2 = np.ones(10)\n",
    "print(my_arr2)\n",
    "\n",
    "# 现在让我们看看如何使用NumPy创建二维数组。\n",
    "my_arr3 = np.zeros((2, 3))\n",
    "print(my_arr3)\n",
    "\n",
    "my_arr4 = np.array([[1, 2],\n",
    "           [3, 4]])\n",
    "print(my_arr4)\n",
    "\n",
    "# 那么现在我们想打印第二列中的所有值怎么办呢\n",
    "print(my_arr4[:, 1])"
   ]
  },
  {
   "cell_type": "code",
   "execution_count": 2,
   "metadata": {},
   "outputs": [
    {
     "name": "stdout",
     "output_type": "stream",
     "text": [
      "[[3 3]\n",
      " [3 3]]\n"
     ]
    }
   ],
   "source": [
    "my_arr5 = np.full((2,2), 3)\n",
    "print(my_arr5)"
   ]
  },
  {
   "cell_type": "code",
   "execution_count": 4,
   "metadata": {},
   "outputs": [
    {
     "name": "stdout",
     "output_type": "stream",
     "text": [
      "[[1. 0. 0.]\n",
      " [0. 1. 0.]\n",
      " [0. 0. 1.]]\n"
     ]
    }
   ],
   "source": [
    "# 对角矩阵\n",
    "my_arr6 = np.eye(3,3)\n",
    "print(my_arr6)"
   ]
  },
  {
   "cell_type": "code",
   "execution_count": null,
   "metadata": {},
   "outputs": [],
   "source": []
  },
  {
   "cell_type": "code",
   "execution_count": null,
   "metadata": {},
   "outputs": [],
   "source": []
  },
  {
   "cell_type": "code",
   "execution_count": null,
   "metadata": {},
   "outputs": [],
   "source": []
  },
  {
   "cell_type": "code",
   "execution_count": null,
   "metadata": {},
   "outputs": [],
   "source": []
  },
  {
   "cell_type": "code",
   "execution_count": null,
   "metadata": {},
   "outputs": [],
   "source": []
  },
  {
   "cell_type": "code",
   "execution_count": null,
   "metadata": {},
   "outputs": [],
   "source": []
  },
  {
   "cell_type": "code",
   "execution_count": null,
   "metadata": {},
   "outputs": [],
   "source": []
  },
  {
   "cell_type": "code",
   "execution_count": null,
   "metadata": {},
   "outputs": [],
   "source": []
  }
 ],
 "metadata": {
  "kernelspec": {
   "display_name": "Python 3",
   "language": "python",
   "name": "python3"
  },
  "language_info": {
   "codemirror_mode": {
    "name": "ipython",
    "version": 3
   },
   "file_extension": ".py",
   "mimetype": "text/x-python",
   "name": "python",
   "nbconvert_exporter": "python",
   "pygments_lexer": "ipython3",
   "version": "3.7.1"
  }
 },
 "nbformat": 4,
 "nbformat_minor": 2
}
