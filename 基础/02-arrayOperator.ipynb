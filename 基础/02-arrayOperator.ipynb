{
 "cells": [
  {
   "cell_type": "code",
   "execution_count": 2,
   "metadata": {},
   "outputs": [
    {
     "name": "stdout",
     "output_type": "stream",
     "text": [
      "a + b = [[ 6.  8.]\n",
      " [10. 12.]]\n",
      "a - b = [[-4. -4.]\n",
      " [-4. -4.]]\n",
      "a * b = [[ 5. 12.]\n",
      " [21. 32.]]\n",
      "a / b = [[0.2        0.33333333]\n",
      " [0.42857143 0.5       ]]\n"
     ]
    }
   ],
   "source": [
    "import numpy as np\n",
    "# 使用NumPy，你可以轻松地在数组上执行数学运算。例如，\n",
    "#你可以添加NumPy数组，你可以减去它们，你可以将它们相乘，甚至可以将它们分开\n",
    "a = np.array([[1.0, 2.0],\n",
    "              [3.0, 4.0]]) \n",
    "b = np.array([[5.0, 6.0],\n",
    "              [7.0, 8.0]])\n",
    "\n",
    "sum = a + b\n",
    "different = a - b\n",
    "product = a * b\n",
    "quotient = a / b\n",
    "\n",
    "print(\"a + b = \" + str(sum))\n",
    "print(\"a - b = \" + str(different))\n",
    "print(\"a * b = \" + str(product))\n",
    "print(\"a / b = \" + str(quotient))"
   ]
  },
  {
   "cell_type": "code",
   "execution_count": 4,
   "metadata": {},
   "outputs": [
    {
     "name": "stdout",
     "output_type": "stream",
     "text": [
      "[[19. 22.]\n",
      " [43. 50.]]\n"
     ]
    }
   ],
   "source": [
    "# 那么这边我们需要注意 * 和 点乘是不一样的\n",
    "matrix_product = a.dot(b)\n",
    "print(matrix_product)"
   ]
  },
  {
   "cell_type": "markdown",
   "metadata": {},
   "source": [
    "#### 结束了"
   ]
  }
 ],
 "metadata": {
  "kernelspec": {
   "display_name": "Python 3",
   "language": "python",
   "name": "python3"
  },
  "language_info": {
   "codemirror_mode": {
    "name": "ipython",
    "version": 3
   },
   "file_extension": ".py",
   "mimetype": "text/x-python",
   "name": "python",
   "nbconvert_exporter": "python",
   "pygments_lexer": "ipython3",
   "version": "3.7.1"
  }
 },
 "nbformat": 4,
 "nbformat_minor": 2
}
